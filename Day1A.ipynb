{
  "nbformat": 4,
  "nbformat_minor": 0,
  "metadata": {
    "colab": {
      "provenance": []
    },
    "kernelspec": {
      "name": "python3",
      "display_name": "Python 3"
    },
    "language_info": {
      "name": "python"
    }
  },
  "cells": [
    {
      "cell_type": "code",
      "execution_count": 1,
      "metadata": {
        "colab": {
          "base_uri": "https://localhost:8080/"
        },
        "id": "VJr4AqYKuhdo",
        "outputId": "be823e5a-5dda-4d80-9c67-bb25632e0de1"
      },
      "outputs": [
        {
          "output_type": "execute_result",
          "data": {
            "text/plain": [
              "{101: 1, 104: 2, 105: 3}"
            ]
          },
          "metadata": {},
          "execution_count": 1
        }
      ],
      "source": [
        "a={101: 1,104: 2,105: 3}\n",
        "a"
      ]
    },
    {
      "cell_type": "code",
      "source": [
        "a[101]"
      ],
      "metadata": {
        "colab": {
          "base_uri": "https://localhost:8080/"
        },
        "id": "E_fmlmlOupG6",
        "outputId": "b5852a84-c574-4090-8680-992c9e370a5b"
      },
      "execution_count": 2,
      "outputs": [
        {
          "output_type": "execute_result",
          "data": {
            "text/plain": [
              "1"
            ]
          },
          "metadata": {},
          "execution_count": 2
        }
      ]
    },
    {
      "cell_type": "code",
      "source": [
        "b ={'name': 'Kavya', 'id': 65,'age': 19}\n",
        "b"
      ],
      "metadata": {
        "colab": {
          "base_uri": "https://localhost:8080/"
        },
        "id": "z8U3QuXRutcU",
        "outputId": "5658e91a-37f1-4038-e2ce-57393d4c19af"
      },
      "execution_count": 3,
      "outputs": [
        {
          "output_type": "execute_result",
          "data": {
            "text/plain": [
              "{'name': 'Kavya', 'id': 65, 'age': 19}"
            ]
          },
          "metadata": {},
          "execution_count": 3
        }
      ]
    },
    {
      "cell_type": "code",
      "source": [
        "b['id'] = 93\n",
        "b"
      ],
      "metadata": {
        "colab": {
          "base_uri": "https://localhost:8080/"
        },
        "id": "PVrwiCH9vBXw",
        "outputId": "3f468887-c269-4f3d-c7e7-a2559a62fe6d"
      },
      "execution_count": 4,
      "outputs": [
        {
          "output_type": "execute_result",
          "data": {
            "text/plain": [
              "{'name': 'Kavya', 'id': 93, 'age': 19}"
            ]
          },
          "metadata": {},
          "execution_count": 4
        }
      ]
    },
    {
      "cell_type": "code",
      "source": [
        "b.update({102:99})\n",
        "b"
      ],
      "metadata": {
        "colab": {
          "base_uri": "https://localhost:8080/"
        },
        "id": "7p-w8klzvFen",
        "outputId": "7a2adbb0-9e69-4fe5-f07c-1254d651523e"
      },
      "execution_count": 5,
      "outputs": [
        {
          "output_type": "execute_result",
          "data": {
            "text/plain": [
              "{'name': 'Kavya', 'id': 93, 'age': 19, 102: 99}"
            ]
          },
          "metadata": {},
          "execution_count": 5
        }
      ]
    },
    {
      "cell_type": "code",
      "source": [
        "b[101]=9\n",
        "b"
      ],
      "metadata": {
        "colab": {
          "base_uri": "https://localhost:8080/"
        },
        "id": "JcTKdDfpvLRF",
        "outputId": "e602248c-a127-44b7-8132-dcd6c15d94eb"
      },
      "execution_count": 6,
      "outputs": [
        {
          "output_type": "execute_result",
          "data": {
            "text/plain": [
              "{'name': 'Kavya', 'id': 93, 'age': 19, 102: 99, 101: 9}"
            ]
          },
          "metadata": {},
          "execution_count": 6
        }
      ]
    },
    {
      "cell_type": "code",
      "source": [
        "b.update({'age': 19})\n",
        "b"
      ],
      "metadata": {
        "colab": {
          "base_uri": "https://localhost:8080/"
        },
        "id": "vl8og1NAvPO8",
        "outputId": "5d78a316-05aa-4b6b-9795-40b5a43fc661"
      },
      "execution_count": 10,
      "outputs": [
        {
          "output_type": "execute_result",
          "data": {
            "text/plain": [
              "{'name': 'Kavya', 'id': 93, 'age': 19, 102: 99, 101: 9}"
            ]
          },
          "metadata": {},
          "execution_count": 10
        }
      ]
    },
    {
      "cell_type": "code",
      "source": [
        "b.get(102)\n",
        "b"
      ],
      "metadata": {
        "colab": {
          "base_uri": "https://localhost:8080/"
        },
        "id": "_Xfl0J63vT1R",
        "outputId": "399d238e-0b8a-4595-dd30-f86e29f71d23"
      },
      "execution_count": 12,
      "outputs": [
        {
          "output_type": "execute_result",
          "data": {
            "text/plain": [
              "{'name': 'Kavya', 'id': 93, 'age': 19, 102: 99, 101: 9}"
            ]
          },
          "metadata": {},
          "execution_count": 12
        }
      ]
    },
    {
      "cell_type": "code",
      "source": [
        "b[105]=5000\n",
        "b"
      ],
      "metadata": {
        "colab": {
          "base_uri": "https://localhost:8080/"
        },
        "id": "m-ygiR8nvjid",
        "outputId": "21dbbf03-dab2-4245-c3bd-cfa11c670fa0"
      },
      "execution_count": 13,
      "outputs": [
        {
          "output_type": "execute_result",
          "data": {
            "text/plain": [
              "{'name': 'Kavya', 'id': 93, 'age': 19, 102: 99, 101: 9, 105: 5000}"
            ]
          },
          "metadata": {},
          "execution_count": 13
        }
      ]
    },
    {
      "cell_type": "code",
      "source": [
        "b[101]=9\n",
        "b"
      ],
      "metadata": {
        "colab": {
          "base_uri": "https://localhost:8080/"
        },
        "id": "2Ni3cmhfvo3n",
        "outputId": "cb0a6326-ed24-4591-e0e0-ede9309c40ff"
      },
      "execution_count": 14,
      "outputs": [
        {
          "output_type": "execute_result",
          "data": {
            "text/plain": [
              "{'name': 'Kavya', 'id': 93, 'age': 19, 102: 99, 101: 9, 105: 5000}"
            ]
          },
          "metadata": {},
          "execution_count": 14
        }
      ]
    },
    {
      "cell_type": "code",
      "source": [
        "b.get(105)\n",
        "b"
      ],
      "metadata": {
        "colab": {
          "base_uri": "https://localhost:8080/"
        },
        "id": "yb_HW2ilvsJF",
        "outputId": "57b4fa4a-0ded-4093-d777-2aeacc6c29f3"
      },
      "execution_count": 15,
      "outputs": [
        {
          "output_type": "execute_result",
          "data": {
            "text/plain": [
              "{'name': 'Kavya', 'id': 93, 'age': 19, 102: 99, 101: 9, 105: 5000}"
            ]
          },
          "metadata": {},
          "execution_count": 15
        }
      ]
    },
    {
      "cell_type": "code",
      "source": [
        "b.update({101:'India'})\n",
        "b"
      ],
      "metadata": {
        "colab": {
          "base_uri": "https://localhost:8080/"
        },
        "id": "HYvJhceRvulC",
        "outputId": "ba929030-acff-4ec2-d93a-660a8d3af292"
      },
      "execution_count": 16,
      "outputs": [
        {
          "output_type": "execute_result",
          "data": {
            "text/plain": [
              "{'name': 'Kavya', 'id': 93, 'age': 19, 102: 99, 101: 'India', 105: 5000}"
            ]
          },
          "metadata": {},
          "execution_count": 16
        }
      ]
    },
    {
      "cell_type": "code",
      "source": [
        "b.update({106:'India'})\n",
        "b"
      ],
      "metadata": {
        "colab": {
          "base_uri": "https://localhost:8080/"
        },
        "id": "SyGovV83vy_o",
        "outputId": "827b4c2a-e7c4-4dfc-9a12-533dafbc2f7f"
      },
      "execution_count": 17,
      "outputs": [
        {
          "output_type": "execute_result",
          "data": {
            "text/plain": [
              "{'name': 'Kavya',\n",
              " 'id': 93,\n",
              " 'age': 19,\n",
              " 102: 99,\n",
              " 101: 'India',\n",
              " 105: 5000,\n",
              " 106: 'India'}"
            ]
          },
          "metadata": {},
          "execution_count": 17
        }
      ]
    },
    {
      "cell_type": "code",
      "source": [
        "b.update({105:'India'})\n",
        "b"
      ],
      "metadata": {
        "colab": {
          "base_uri": "https://localhost:8080/"
        },
        "id": "bTOAf8Eav5Gz",
        "outputId": "bea49914-3fa3-41c1-a737-c2704adbca7c"
      },
      "execution_count": 18,
      "outputs": [
        {
          "output_type": "execute_result",
          "data": {
            "text/plain": [
              "{'name': 'Kavya',\n",
              " 'id': 93,\n",
              " 'age': 19,\n",
              " 102: 99,\n",
              " 101: 'India',\n",
              " 105: 'India',\n",
              " 106: 'India'}"
            ]
          },
          "metadata": {},
          "execution_count": 18
        }
      ]
    },
    {
      "cell_type": "code",
      "source": [
        "b.update({103:'India'})\n",
        "b"
      ],
      "metadata": {
        "colab": {
          "base_uri": "https://localhost:8080/"
        },
        "id": "gFgZdByOv-H8",
        "outputId": "d1ea3730-011e-40a6-f62f-389d5fb169a9"
      },
      "execution_count": 19,
      "outputs": [
        {
          "output_type": "execute_result",
          "data": {
            "text/plain": [
              "{'name': 'Kavya',\n",
              " 'id': 93,\n",
              " 'age': 19,\n",
              " 102: 99,\n",
              " 101: 'India',\n",
              " 105: 'India',\n",
              " 106: 'India',\n",
              " 103: 'India'}"
            ]
          },
          "metadata": {},
          "execution_count": 19
        }
      ]
    },
    {
      "cell_type": "code",
      "source": [
        "x = {501:4,502:6,'id': 63,501: 89}\n",
        "x"
      ],
      "metadata": {
        "colab": {
          "base_uri": "https://localhost:8080/"
        },
        "id": "XWUIuiC1wEwf",
        "outputId": "3931939f-153e-4e39-a691-c9fa23d38be1"
      },
      "execution_count": 20,
      "outputs": [
        {
          "output_type": "execute_result",
          "data": {
            "text/plain": [
              "{501: 89, 502: 6, 'id': 63}"
            ]
          },
          "metadata": {},
          "execution_count": 20
        }
      ]
    },
    {
      "cell_type": "code",
      "source": [
        "x.update({'id': 96})\n",
        "x"
      ],
      "metadata": {
        "colab": {
          "base_uri": "https://localhost:8080/"
        },
        "id": "ffmmNkYwwQfd",
        "outputId": "1d10006b-d730-4568-e110-82744ad7565d"
      },
      "execution_count": 21,
      "outputs": [
        {
          "output_type": "execute_result",
          "data": {
            "text/plain": [
              "{501: 89, 502: 6, 'id': 96}"
            ]
          },
          "metadata": {},
          "execution_count": 21
        }
      ]
    },
    {
      "cell_type": "code",
      "source": [
        "x.get(502)"
      ],
      "metadata": {
        "colab": {
          "base_uri": "https://localhost:8080/"
        },
        "id": "Thk_r24NwVXY",
        "outputId": "effac71b-a7c6-4885-cb77-465ac61856e2"
      },
      "execution_count": 23,
      "outputs": [
        {
          "output_type": "execute_result",
          "data": {
            "text/plain": [
              "6"
            ]
          },
          "metadata": {},
          "execution_count": 23
        }
      ]
    },
    {
      "cell_type": "code",
      "source": [],
      "metadata": {
        "id": "AettBu1pwZ0k"
      },
      "execution_count": null,
      "outputs": []
    }
  ]
}